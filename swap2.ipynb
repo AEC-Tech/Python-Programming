{
 "cells": [
  {
   "cell_type": "code",
   "execution_count": 1,
   "metadata": {},
   "outputs": [
    {
     "name": "stdout",
     "output_type": "stream",
     "text": [
      "Enter first number 70\n",
      "Enter second number 56\n",
      "Before swap a is  70  and b is  56\n",
      "After swap a is  56  and b is  70\n"
     ]
    }
   ],
   "source": [
    "#swapping two values using third variable\n",
    "a=input(\"Enter first number \")\n",
    "b=input(\"Enter second number \")\n",
    "print(\"Before swap a is \",a,\" and b is \",b)\n",
    "temp=a\n",
    "a=b\n",
    "b=temp\n",
    "print(\"After swap a is \",a,\" and b is \",b)"
   ]
  },
  {
   "cell_type": "code",
   "execution_count": 2,
   "metadata": {},
   "outputs": [
    {
     "name": "stdout",
     "output_type": "stream",
     "text": [
      "Enter first number 78\n",
      "Enter second number 34\n",
      "Before swap a is  78  and b is  34\n",
      "After swap a is  34  and b is  78\n"
     ]
    }
   ],
   "source": [
    "#swapping two numbers without using third variable\n",
    "a=int(input(\"Enter first number \"))\n",
    "b=int(input(\"Enter second number \"))\n",
    "print(\"Before swap a is \",a,\" and b is \",b)\n",
    "a=a+b\n",
    "b=a-b\n",
    "a=a-b\n",
    "print(\"After swap a is \",a,\" and b is \",b)"
   ]
  },
  {
   "cell_type": "code",
   "execution_count": null,
   "metadata": {},
   "outputs": [],
   "source": []
  },
  {
   "cell_type": "code",
   "execution_count": null,
   "metadata": {},
   "outputs": [],
   "source": []
  }
 ],
 "metadata": {
  "kernelspec": {
   "display_name": "Python 3",
   "language": "python",
   "name": "python3"
  },
  "language_info": {
   "codemirror_mode": {
    "name": "ipython",
    "version": 3
   },
   "file_extension": ".py",
   "mimetype": "text/x-python",
   "name": "python",
   "nbconvert_exporter": "python",
   "pygments_lexer": "ipython3",
   "version": "3.6.4"
  }
 },
 "nbformat": 4,
 "nbformat_minor": 2
}
