{
 "cells": [
  {
   "cell_type": "code",
   "execution_count": 1,
   "metadata": {},
   "outputs": [
    {
     "name": "stdout",
     "output_type": "stream",
     "text": [
      "Enter length of rectangle6\n",
      "Enter breadth of rectangle5\n",
      "Area is  30\n",
      "Perimeter is  22\n"
     ]
    }
   ],
   "source": [
    "#program to calculate area and perimeter of a rectangle\n",
    "l=int(input(\"Enter length of rectangle\"))\n",
    "b=int(input(\"Enter breadth of rectangle\"))\n",
    "a=l*b\n",
    "p=2*(l+b)\n",
    "print(\"Area is \",a)\n",
    "print(\"Perimeter is \",p)"
   ]
  },
  {
   "cell_type": "code",
   "execution_count": 2,
   "metadata": {},
   "outputs": [
    {
     "name": "stdout",
     "output_type": "stream",
     "text": [
      "Enter cost of the product20\n",
      "Enter quantity of the product4\n",
      "Amount is  80\n",
      "Discount is  8.0\n",
      "Net Amount  72.0\n"
     ]
    }
   ],
   "source": [
    "#program to calculate bill\n",
    "cost=int(input(\"Enter cost of the product\"))\n",
    "qty=int(input(\"Enter quantity of the product\"))\n",
    "amt=cost*qty\n",
    "dis=10*amt/100\n",
    "namt=amt-dis\n",
    "print(\"Amount is \",amt)\n",
    "print(\"Discount is \",dis)\n",
    "print(\"Net Amount \",namt)"
   ]
  },
  {
   "cell_type": "code",
   "execution_count": 3,
   "metadata": {},
   "outputs": [
    {
     "name": "stdout",
     "output_type": "stream",
     "text": [
      "Enter number 1 80\n",
      "Enter number 2 78\n",
      "Enter number 3 45\n",
      "Enter number 4 67\n",
      "Enter number 5 50\n",
      "Sum is  320\n",
      "Average is  64.0\n"
     ]
    }
   ],
   "source": [
    "# program to find average of five numbers\n",
    "n1=int(input(\"Enter number 1 \"))\n",
    "n2=int(input(\"Enter number 2 \"))\n",
    "n3=int(input(\"Enter number 3 \"))\n",
    "n4=int(input(\"Enter number 4 \"))\n",
    "n5=int(input(\"Enter number 5 \"))\n",
    "sumn=n1+n2+n3+n4+n5;\n",
    "avg=sumn/5\n",
    "print(\"Sum is \",sumn)\n",
    "print(\"Average is \",avg)"
   ]
  },
  {
   "cell_type": "code",
   "execution_count": null,
   "metadata": {},
   "outputs": [],
   "source": []
  }
 ],
 "metadata": {
  "kernelspec": {
   "display_name": "Python 3",
   "language": "python",
   "name": "python3"
  },
  "language_info": {
   "codemirror_mode": {
    "name": "ipython",
    "version": 3
   },
   "file_extension": ".py",
   "mimetype": "text/x-python",
   "name": "python",
   "nbconvert_exporter": "python",
   "pygments_lexer": "ipython3",
   "version": "3.6.4"
  }
 },
 "nbformat": 4,
 "nbformat_minor": 2
}
