{
 "cells": [
  {
   "cell_type": "code",
   "execution_count": 4,
   "metadata": {},
   "outputs": [
    {
     "name": "stdout",
     "output_type": "stream",
     "text": [
      "Enter percentage marks 82\n",
      "Grade B\n"
     ]
    }
   ],
   "source": [
    "#program to input percentage marks of a student and print the grade\n",
    "per=int(input(\"Enter percentage marks \"))\n",
    "if per>=90:\n",
    "    print(\"Grade A\")\n",
    "elif per>=80:\n",
    "    print(\"Grade B\")\n",
    "elif per>=60:\n",
    "    print(\"Grade C\")\n",
    "else:\n",
    "    print(\"Grade D\")"
   ]
  },
  {
   "cell_type": "code",
   "execution_count": 8,
   "metadata": {},
   "outputs": [
    {
     "name": "stdout",
     "output_type": "stream",
     "text": [
      "Enter Side 1 8\n",
      "Enter Side 2 8\n",
      "Enter Side 3 8\n",
      "Equilateral\n"
     ]
    }
   ],
   "source": [
    "#program to input three sides of a triangle and print if it is equilateral, isosceles or scalene\n",
    "side1=int(input(\"Enter Side 1 \"))\n",
    "side2=int(input(\"Enter Side 2 \"))\n",
    "side3=int(input(\"Enter Side 3 \"))\n",
    "if side1==side2 and side2==side3:\n",
    "    print(\"Equilateral\")\n",
    "elif side1==side2 or side2==side3 or side3==side1:\n",
    "    print(\"Isosceles\")\n",
    "else:\n",
    "    print(\"Scalene\")\n"
   ]
  },
  {
   "cell_type": "code",
   "execution_count": 9,
   "metadata": {},
   "outputs": [
    {
     "name": "stdout",
     "output_type": "stream",
     "text": [
      "Enter number 1 6\n",
      "Enter number 2 9\n",
      "Enter number 3 4\n",
      "9  is greatest\n"
     ]
    }
   ],
   "source": [
    "# greatest of three numbers using nested if else\n",
    "a=int(input(\"Enter number 1 \"))\n",
    "b=int(input(\"Enter number 2 \"))\n",
    "c=int(input(\"Enter number 3 \"))\n",
    "if a>b:\n",
    "    if a>c:\n",
    "        print(a,\" is greatest\")\n",
    "    else:\n",
    "        print(c,\" is greatest\")\n",
    "else:\n",
    "    if b>c:\n",
    "        print(b,\" is greatest\")\n",
    "    else:\n",
    "        print(c,\" is greatest\")\n",
    "        "
   ]
  },
  {
   "cell_type": "code",
   "execution_count": null,
   "metadata": {},
   "outputs": [],
   "source": []
  }
 ],
 "metadata": {
  "kernelspec": {
   "display_name": "Python 3",
   "language": "python",
   "name": "python3"
  },
  "language_info": {
   "codemirror_mode": {
    "name": "ipython",
    "version": 3
   },
   "file_extension": ".py",
   "mimetype": "text/x-python",
   "name": "python",
   "nbconvert_exporter": "python",
   "pygments_lexer": "ipython3",
   "version": "3.6.4"
  }
 },
 "nbformat": 4,
 "nbformat_minor": 2
}
