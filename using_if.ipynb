{
 "cells": [
  {
   "cell_type": "code",
   "execution_count": 6,
   "metadata": {},
   "outputs": [
    {
     "name": "stdout",
     "output_type": "stream",
     "text": [
      "Enter marks 23\n",
      "Fail\n"
     ]
    }
   ],
   "source": [
    "#program to check result of a student\n",
    "marks=int(input(\"Enter marks \"))\n",
    "if marks>=40:\n",
    "    print(\"Pass\")\n",
    "if marks<40:\n",
    "    print(\"Fail\")"
   ]
  },
  {
   "cell_type": "code",
   "execution_count": 5,
   "metadata": {},
   "outputs": [
    {
     "name": "stdout",
     "output_type": "stream",
     "text": [
      "Enter first number 78\n",
      "Enter second number 96\n",
      "Enter third number 45\n",
      "96  is greatest\n"
     ]
    }
   ],
   "source": [
    "#program to get greatest of three numbers \n",
    "a=int(input(\"Enter first number \"))\n",
    "b=int(input(\"Enter second number \"))\n",
    "c=int(input(\"Enter third number \"))\n",
    "if a>b and a>c:\n",
    "    print(a,\" is greatest\")\n",
    "if b>a and b>c:\n",
    "    print(b,\" is greatest\")\n",
    "if c>a and c>b:\n",
    "    print(c,\" is greatest\")\n",
    "\n",
    "    \n"
   ]
  },
  {
   "cell_type": "code",
   "execution_count": 8,
   "metadata": {},
   "outputs": [
    {
     "name": "stdout",
     "output_type": "stream",
     "text": [
      "Enter marks 12\n",
      "Fail\n"
     ]
    }
   ],
   "source": [
    "#program to check result of a student\n",
    "marks=int(input(\"Enter marks \"))\n",
    "if marks>=40:\n",
    "    print(\"Pass\")\n",
    "else:\n",
    "    print(\"Fail\")"
   ]
  },
  {
   "cell_type": "code",
   "execution_count": 10,
   "metadata": {},
   "outputs": [
    {
     "name": "stdout",
     "output_type": "stream",
     "text": [
      "Enter selling price 45\n",
      "Enter cost price 52\n",
      "Loss is  7\n"
     ]
    }
   ],
   "source": [
    "#program to find profit/loss\n",
    "sp=int(input(\"Enter selling price \"))\n",
    "cp=int(input(\"Enter cost price \"))\n",
    "if sp>cp:\n",
    "    res=sp-cp\n",
    "    print(\"Profit is \",res)\n",
    "else:\n",
    "    res=cp-sp\n",
    "    print(\"Loss is \",res)\n",
    "    "
   ]
  },
  {
   "cell_type": "code",
   "execution_count": 12,
   "metadata": {},
   "outputs": [
    {
     "name": "stdout",
     "output_type": "stream",
     "text": [
      "Enter the number  45\n",
      "No. is odd\n"
     ]
    }
   ],
   "source": [
    "#program to check if a number is even or odd\n",
    "num=int(input(\"Enter the number  \"))\n",
    "if num%2==0:\n",
    "    print(\"No. is Even\")\n",
    "else:\n",
    "    print(\"No. is odd\")"
   ]
  },
  {
   "cell_type": "code",
   "execution_count": null,
   "metadata": {},
   "outputs": [],
   "source": [
    "#program to input sides of a triangle and print if it is equilateral or not\n"
   ]
  },
  {
   "cell_type": "code",
   "execution_count": null,
   "metadata": {},
   "outputs": [],
   "source": [
    "#program to input percentage marks of a student and print the grade accordingly\n",
    "# per>=90 Print grade A\n",
    "# per 80-90 print grade B\n",
    "# per 60-80 print grade C\n",
    "# per<60 print grade D"
   ]
  }
 ],
 "metadata": {
  "kernelspec": {
   "display_name": "Python 3",
   "language": "python",
   "name": "python3"
  },
  "language_info": {
   "codemirror_mode": {
    "name": "ipython",
    "version": 3
   },
   "file_extension": ".py",
   "mimetype": "text/x-python",
   "name": "python",
   "nbconvert_exporter": "python",
   "pygments_lexer": "ipython3",
   "version": "3.6.4"
  }
 },
 "nbformat": 4,
 "nbformat_minor": 2
}
